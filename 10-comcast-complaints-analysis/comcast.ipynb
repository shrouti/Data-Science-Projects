{
 "cells": [
  {
   "cell_type": "markdown",
   "metadata": {},
   "source": [
    "# Data cleaning and EDA"
   ]
  },
  {
   "cell_type": "code",
   "execution_count": 1,
   "metadata": {
    "collapsed": true
   },
   "outputs": [],
   "source": [
    "import pandas as pd\n",
    "import numpy as np\n",
    "import matplotlib.pyplot as plt\n",
    "import seaborn as sns\n",
    "%matplotlib inline"
   ]
  },
  {
   "cell_type": "code",
   "execution_count": 2,
   "metadata": {
    "collapsed": true
   },
   "outputs": [],
   "source": [
    "# Load the data of complaints on consumeraffairs.com\n",
    "comp = pd.read_csv('complaints.csv')"
   ]
  },
  {
   "cell_type": "code",
   "execution_count": 3,
   "metadata": {
    "collapsed": false
   },
   "outputs": [
    {
     "data": {
      "text/html": [
       "<div>\n",
       "<table border=\"1\" class=\"dataframe\">\n",
       "  <thead>\n",
       "    <tr style=\"text-align: right;\">\n",
       "      <th></th>\n",
       "      <th>author</th>\n",
       "      <th>posted_on</th>\n",
       "      <th>rating</th>\n",
       "      <th>text</th>\n",
       "    </tr>\n",
       "  </thead>\n",
       "  <tbody>\n",
       "    <tr>\n",
       "      <th>0</th>\n",
       "      <td>Alantae of Chesterfeild, MI</td>\n",
       "      <td>Nov. 22, 2016</td>\n",
       "      <td>1</td>\n",
       "      <td>I used to love Comcast. Until all these consta...</td>\n",
       "    </tr>\n",
       "    <tr>\n",
       "      <th>1</th>\n",
       "      <td>Vera of Philadelphia, PA</td>\n",
       "      <td>Nov. 19, 2016</td>\n",
       "      <td>1</td>\n",
       "      <td>I'm so over Comcast! The worst internet provid...</td>\n",
       "    </tr>\n",
       "    <tr>\n",
       "      <th>2</th>\n",
       "      <td>Sarah of Rancho Cordova, CA</td>\n",
       "      <td>Nov. 17, 2016</td>\n",
       "      <td>1</td>\n",
       "      <td>If I could give them a negative star or no sta...</td>\n",
       "    </tr>\n",
       "    <tr>\n",
       "      <th>3</th>\n",
       "      <td>Dennis of Manchester, NH</td>\n",
       "      <td>Nov. 16, 2016</td>\n",
       "      <td>1</td>\n",
       "      <td>I've had the worst experiences so far since in...</td>\n",
       "    </tr>\n",
       "    <tr>\n",
       "      <th>4</th>\n",
       "      <td>Ryan of Bellevue, WA</td>\n",
       "      <td>Nov. 14, 2016</td>\n",
       "      <td>1</td>\n",
       "      <td>Check your contract when you sign up for Comca...</td>\n",
       "    </tr>\n",
       "  </tbody>\n",
       "</table>\n",
       "</div>"
      ],
      "text/plain": [
       "                        author      posted_on  rating  \\\n",
       "0  Alantae of Chesterfeild, MI  Nov. 22, 2016       1   \n",
       "1     Vera of Philadelphia, PA  Nov. 19, 2016       1   \n",
       "2  Sarah of Rancho Cordova, CA  Nov. 17, 2016       1   \n",
       "3     Dennis of Manchester, NH  Nov. 16, 2016       1   \n",
       "4         Ryan of Bellevue, WA  Nov. 14, 2016       1   \n",
       "\n",
       "                                                text  \n",
       "0  I used to love Comcast. Until all these consta...  \n",
       "1  I'm so over Comcast! The worst internet provid...  \n",
       "2  If I could give them a negative star or no sta...  \n",
       "3  I've had the worst experiences so far since in...  \n",
       "4  Check your contract when you sign up for Comca...  "
      ]
     },
     "execution_count": 3,
     "metadata": {},
     "output_type": "execute_result"
    }
   ],
   "source": [
    "comp.head()"
   ]
  },
  {
   "cell_type": "code",
   "execution_count": 4,
   "metadata": {
    "collapsed": false
   },
   "outputs": [
    {
     "data": {
      "text/plain": [
       "(5659, 4)"
      ]
     },
     "execution_count": 4,
     "metadata": {},
     "output_type": "execute_result"
    }
   ],
   "source": [
    "comp.shape"
   ]
  },
  {
   "cell_type": "code",
   "execution_count": 5,
   "metadata": {
    "collapsed": false
   },
   "outputs": [
    {
     "data": {
      "text/plain": [
       "1    3734\n",
       "0    1560\n",
       "2     260\n",
       "3      54\n",
       "5      32\n",
       "4      19\n",
       "Name: rating, dtype: int64"
      ]
     },
     "execution_count": 5,
     "metadata": {},
     "output_type": "execute_result"
    }
   ],
   "source": [
    "comp.rating.value_counts()"
   ]
  },
  {
   "cell_type": "code",
   "execution_count": 6,
   "metadata": {
    "collapsed": false
   },
   "outputs": [
    {
     "data": {
      "text/plain": [
       "author       object\n",
       "posted_on    object\n",
       "rating        int64\n",
       "text         object\n",
       "dtype: object"
      ]
     },
     "execution_count": 6,
     "metadata": {},
     "output_type": "execute_result"
    }
   ],
   "source": [
    "comp.dtypes"
   ]
  },
  {
   "cell_type": "code",
   "execution_count": 7,
   "metadata": {
    "collapsed": false
   },
   "outputs": [
    {
     "data": {
      "text/plain": [
       "author        0\n",
       "posted_on     0\n",
       "rating        0\n",
       "text         30\n",
       "dtype: int64"
      ]
     },
     "execution_count": 7,
     "metadata": {},
     "output_type": "execute_result"
    }
   ],
   "source": [
    "comp.isnull().sum()"
   ]
  },
  {
   "cell_type": "code",
   "execution_count": 8,
   "metadata": {
    "collapsed": false
   },
   "outputs": [
    {
     "data": {
      "text/plain": [
       "Feb. 24, 2016     64\n",
       "March 2, 2016     13\n",
       "July 28, 2015     11\n",
       "Jan. 28, 2015     11\n",
       "Nov. 18, 2014     10\n",
       "Nov. 6, 2014      10\n",
       "Feb. 12, 2015     10\n",
       "Nov. 4, 2014      10\n",
       "Sept. 1, 2015     10\n",
       "Aug. 11, 2015     10\n",
       "July 8, 2015      10\n",
       "Aug. 6, 2015      10\n",
       "June 30, 2015     10\n",
       "Sept. 12, 2015    10\n",
       "Dec. 10, 2014     10\n",
       "Jan. 15, 2015      9\n",
       "Jan. 23, 2015      9\n",
       "Dec. 16, 2015      9\n",
       "Sept. 30, 2015     9\n",
       "April 10, 2015     9\n",
       "Jan. 6, 2015       9\n",
       "March 23, 2015     8\n",
       "Aug. 30, 2011      8\n",
       "May 31, 2015       8\n",
       "Feb. 10, 2015      8\n",
       "Oct. 13, 2015      8\n",
       "June 26, 2015      8\n",
       "May 8, 2015        8\n",
       "Sept. 25, 2015     8\n",
       "July 16, 2015      8\n",
       "                  ..\n",
       "Dec. 10, 2010      1\n",
       "Dec. 26, 2015      1\n",
       "Dec. 4, 2009       1\n",
       "Aug. 30, 2014      1\n",
       "Jan. 2, 2009       1\n",
       "April 28, 2014     1\n",
       "July 28, 2009      1\n",
       "April 28, 2012     1\n",
       "Nov. 5, 2009       1\n",
       "July 10, 2009      1\n",
       "Aug. 9, 2010       1\n",
       "April 22, 2010     1\n",
       "Aug. 9, 2013       1\n",
       "July 15, 2008      1\n",
       "Jan. 4, 2014       1\n",
       "Jan. 4, 2013       1\n",
       "Jan. 4, 2011       1\n",
       "Dec. 15, 2009      1\n",
       "Aug. 16, 2012      1\n",
       "Aug. 16, 2013      1\n",
       "Aug. 14, 2014      1\n",
       "July 18, 2008      1\n",
       "Dec. 9, 2012       1\n",
       "Jan. 3, 2007       1\n",
       "Sept. 16, 2009     1\n",
       "Aug. 23, 2009      1\n",
       "Nov. 12, 2011      1\n",
       "Nov. 28, 2010      1\n",
       "Sept. 6, 2010      1\n",
       "Sept. 4, 2016      1\n",
       "Name: posted_on, dtype: int64"
      ]
     },
     "execution_count": 8,
     "metadata": {},
     "output_type": "execute_result"
    }
   ],
   "source": [
    "comp.posted_on.value_counts()"
   ]
  },
  {
   "cell_type": "code",
   "execution_count": 9,
   "metadata": {
    "collapsed": false
   },
   "outputs": [],
   "source": [
    "# extract locations from author as a feature\n",
    "import re\n",
    "comp['location'] = comp.author.apply(lambda x: ''.join(re.findall('\\,\\s[A-Z]{2}', x))[2:])"
   ]
  },
  {
   "cell_type": "code",
   "execution_count": 10,
   "metadata": {
    "collapsed": false
   },
   "outputs": [],
   "source": [
    "# extract year from posted time as a feature\n",
    "comp['year'] = comp.posted_on.apply(lambda x: x.split(', ')[-1].strip())"
   ]
  },
  {
   "cell_type": "code",
   "execution_count": 11,
   "metadata": {
    "collapsed": false
   },
   "outputs": [
    {
     "data": {
      "text/html": [
       "<div>\n",
       "<table border=\"1\" class=\"dataframe\">\n",
       "  <thead>\n",
       "    <tr style=\"text-align: right;\">\n",
       "      <th></th>\n",
       "      <th>author</th>\n",
       "      <th>posted_on</th>\n",
       "      <th>rating</th>\n",
       "      <th>text</th>\n",
       "      <th>location</th>\n",
       "      <th>year</th>\n",
       "    </tr>\n",
       "  </thead>\n",
       "  <tbody>\n",
       "    <tr>\n",
       "      <th>0</th>\n",
       "      <td>Alantae of Chesterfeild, MI</td>\n",
       "      <td>Nov. 22, 2016</td>\n",
       "      <td>1</td>\n",
       "      <td>I used to love Comcast. Until all these consta...</td>\n",
       "      <td>MI</td>\n",
       "      <td>2016</td>\n",
       "    </tr>\n",
       "    <tr>\n",
       "      <th>1</th>\n",
       "      <td>Vera of Philadelphia, PA</td>\n",
       "      <td>Nov. 19, 2016</td>\n",
       "      <td>1</td>\n",
       "      <td>I'm so over Comcast! The worst internet provid...</td>\n",
       "      <td>PA</td>\n",
       "      <td>2016</td>\n",
       "    </tr>\n",
       "    <tr>\n",
       "      <th>2</th>\n",
       "      <td>Sarah of Rancho Cordova, CA</td>\n",
       "      <td>Nov. 17, 2016</td>\n",
       "      <td>1</td>\n",
       "      <td>If I could give them a negative star or no sta...</td>\n",
       "      <td>CA</td>\n",
       "      <td>2016</td>\n",
       "    </tr>\n",
       "    <tr>\n",
       "      <th>3</th>\n",
       "      <td>Dennis of Manchester, NH</td>\n",
       "      <td>Nov. 16, 2016</td>\n",
       "      <td>1</td>\n",
       "      <td>I've had the worst experiences so far since in...</td>\n",
       "      <td>NH</td>\n",
       "      <td>2016</td>\n",
       "    </tr>\n",
       "    <tr>\n",
       "      <th>4</th>\n",
       "      <td>Ryan of Bellevue, WA</td>\n",
       "      <td>Nov. 14, 2016</td>\n",
       "      <td>1</td>\n",
       "      <td>Check your contract when you sign up for Comca...</td>\n",
       "      <td>WA</td>\n",
       "      <td>2016</td>\n",
       "    </tr>\n",
       "  </tbody>\n",
       "</table>\n",
       "</div>"
      ],
      "text/plain": [
       "                        author      posted_on  rating  \\\n",
       "0  Alantae of Chesterfeild, MI  Nov. 22, 2016       1   \n",
       "1     Vera of Philadelphia, PA  Nov. 19, 2016       1   \n",
       "2  Sarah of Rancho Cordova, CA  Nov. 17, 2016       1   \n",
       "3     Dennis of Manchester, NH  Nov. 16, 2016       1   \n",
       "4         Ryan of Bellevue, WA  Nov. 14, 2016       1   \n",
       "\n",
       "                                                text location  year  \n",
       "0  I used to love Comcast. Until all these consta...       MI  2016  \n",
       "1  I'm so over Comcast! The worst internet provid...       PA  2016  \n",
       "2  If I could give them a negative star or no sta...       CA  2016  \n",
       "3  I've had the worst experiences so far since in...       NH  2016  \n",
       "4  Check your contract when you sign up for Comca...       WA  2016  "
      ]
     },
     "execution_count": 11,
     "metadata": {},
     "output_type": "execute_result"
    }
   ],
   "source": [
    "comp.head()"
   ]
  },
  {
   "cell_type": "code",
   "execution_count": 12,
   "metadata": {
    "collapsed": true
   },
   "outputs": [],
   "source": [
    "comp.year = pd.to_numeric(comp.year)"
   ]
  },
  {
   "cell_type": "code",
   "execution_count": 13,
   "metadata": {
    "collapsed": false
   },
   "outputs": [
    {
     "data": {
      "text/plain": [
       "author       object\n",
       "posted_on    object\n",
       "rating        int64\n",
       "text         object\n",
       "location     object\n",
       "year          int64\n",
       "dtype: object"
      ]
     },
     "execution_count": 13,
     "metadata": {},
     "output_type": "execute_result"
    }
   ],
   "source": [
    "comp.dtypes"
   ]
  },
  {
   "cell_type": "code",
   "execution_count": 14,
   "metadata": {
    "collapsed": false
   },
   "outputs": [
    {
     "data": {
      "text/plain": [
       "FL    778\n",
       "CA    554\n",
       "GA    414\n",
       "IL    378\n",
       "PA    326\n",
       "NJ    278\n",
       "TX    274\n",
       "MI    266\n",
       "TN    244\n",
       "MD    238\n",
       "WA    215\n",
       "VA    215\n",
       "MA    184\n",
       "CO    182\n",
       "IN    144\n",
       "MN    108\n",
       "      105\n",
       "OR    100\n",
       "CT     75\n",
       "UT     62\n",
       "AL     55\n",
       "NH     45\n",
       "SC     41\n",
       "DC     41\n",
       "DE     40\n",
       "NM     38\n",
       "MS     35\n",
       "NY     32\n",
       "LA     28\n",
       "AZ     22\n",
       "WV     21\n",
       "KY     21\n",
       "AR     19\n",
       "VT     12\n",
       "OH     12\n",
       "MO     12\n",
       "WI      9\n",
       "NC      7\n",
       "ME      7\n",
       "NV      5\n",
       "KS      4\n",
       "ID      2\n",
       "ND      2\n",
       "HI      2\n",
       "PE      1\n",
       "OT      1\n",
       "WY      1\n",
       "ON      1\n",
       "BC      1\n",
       "AK      1\n",
       "NE      1\n",
       "Name: location, dtype: int64"
      ]
     },
     "execution_count": 14,
     "metadata": {},
     "output_type": "execute_result"
    }
   ],
   "source": [
    "comp.location.value_counts()"
   ]
  },
  {
   "cell_type": "code",
   "execution_count": 15,
   "metadata": {
    "collapsed": false
   },
   "outputs": [
    {
     "data": {
      "text/plain": [
       "2015    1477\n",
       "2016     846\n",
       "2014     770\n",
       "2009     462\n",
       "2008     441\n",
       "2012     418\n",
       "2010     415\n",
       "2011     357\n",
       "2013     313\n",
       "2007     106\n",
       "2006      34\n",
       "2004      10\n",
       "2003       6\n",
       "2001       2\n",
       "2002       1\n",
       "2000       1\n",
       "Name: year, dtype: int64"
      ]
     },
     "execution_count": 15,
     "metadata": {},
     "output_type": "execute_result"
    }
   ],
   "source": [
    "comp.year.value_counts()"
   ]
  },
  {
   "cell_type": "code",
   "execution_count": 16,
   "metadata": {
    "collapsed": false
   },
   "outputs": [],
   "source": [
    "comp.dropna(inplace=True)"
   ]
  },
  {
   "cell_type": "code",
   "execution_count": 17,
   "metadata": {
    "collapsed": false
   },
   "outputs": [],
   "source": [
    "# reset index after dropping nulls\n",
    "comp.reset_index(drop=True, inplace=True)"
   ]
  },
  {
   "cell_type": "code",
   "execution_count": 18,
   "metadata": {
    "collapsed": false
   },
   "outputs": [
    {
     "data": {
      "text/plain": [
       "(5629, 6)"
      ]
     },
     "execution_count": 18,
     "metadata": {},
     "output_type": "execute_result"
    }
   ],
   "source": [
    "comp.shape"
   ]
  },
  {
   "cell_type": "markdown",
   "metadata": {},
   "source": [
    "# Tokenization & Feature engineering"
   ]
  },
  {
   "cell_type": "code",
   "execution_count": 19,
   "metadata": {
    "collapsed": true
   },
   "outputs": [],
   "source": [
    "from sklearn.feature_extraction.text import TfidfVectorizer\n",
    "from textblob import TextBlob, Word\n",
    "from nltk.stem.snowball import SnowballStemmer\n",
    "from nltk.corpus import stopwords"
   ]
  },
  {
   "cell_type": "code",
   "execution_count": 20,
   "metadata": {
    "collapsed": true
   },
   "outputs": [],
   "source": [
    "# define a function to use textblob and nltk to lemmatize words and delete stopwords\n",
    "def lemmas(text):\n",
    "    text = unicode(text, 'utf-8').lower()\n",
    "    words = TextBlob(text).words\n",
    "    return [word.lemmatize() for word in words if word not in stopwords.words('english')]"
   ]
  },
  {
   "cell_type": "code",
   "execution_count": 21,
   "metadata": {
    "collapsed": true
   },
   "outputs": [],
   "source": [
    "tvec = TfidfVectorizer(analyzer=lemmas, strip_accents='unicode')"
   ]
  },
  {
   "cell_type": "code",
   "execution_count": 22,
   "metadata": {
    "collapsed": false
   },
   "outputs": [],
   "source": [
    "complaints = pd.DataFrame(tvec.fit_transform(comp['text']).todense(), columns = tvec.get_feature_names())"
   ]
  },
  {
   "cell_type": "code",
   "execution_count": 23,
   "metadata": {
    "collapsed": true
   },
   "outputs": [],
   "source": [
    "# calculate the length of text as a feature. Intuition: the angrier you are, the more you want to curse\n",
    "comp['length'] = comp['text'].apply(lambda x: len(x))"
   ]
  },
  {
   "cell_type": "code",
   "execution_count": 24,
   "metadata": {
    "collapsed": true
   },
   "outputs": [],
   "source": [
    "# label locations\n",
    "from sklearn.preprocessing import LabelEncoder\n",
    "le = LabelEncoder()\n",
    "comp.location = le.fit_transform(comp.location)"
   ]
  },
  {
   "cell_type": "code",
   "execution_count": 25,
   "metadata": {
    "collapsed": false
   },
   "outputs": [],
   "source": [
    "X = pd.concat([complaints, comp.location, comp.year, comp.length], axis=1).as_matrix()\n",
    "y = comp.rating"
   ]
  },
  {
   "cell_type": "code",
   "execution_count": 26,
   "metadata": {
    "collapsed": false
   },
   "outputs": [
    {
     "data": {
      "text/plain": [
       "(5629, 21763)"
      ]
     },
     "execution_count": 26,
     "metadata": {},
     "output_type": "execute_result"
    }
   ],
   "source": [
    "X.shape"
   ]
  },
  {
   "cell_type": "code",
   "execution_count": 27,
   "metadata": {
    "collapsed": false
   },
   "outputs": [
    {
     "data": {
      "text/plain": [
       "1    3734\n",
       "0    1530\n",
       "2     260\n",
       "3      54\n",
       "5      32\n",
       "4      19\n",
       "Name: rating, dtype: int64"
      ]
     },
     "execution_count": 27,
     "metadata": {},
     "output_type": "execute_result"
    }
   ],
   "source": [
    "# unbalanced data\n",
    "y.value_counts()"
   ]
  },
  {
   "cell_type": "markdown",
   "metadata": {},
   "source": [
    "# Sentiment Analysis"
   ]
  },
  {
   "cell_type": "code",
   "execution_count": 28,
   "metadata": {
    "collapsed": false
   },
   "outputs": [],
   "source": [
    "from sklearn.naive_bayes import MultinomialNB\n",
    "from xgboost import XGBClassifier\n",
    "from sklearn.model_selection import train_test_split, cross_val_score, cross_val_predict, RandomizedSearchCV"
   ]
  },
  {
   "cell_type": "code",
   "execution_count": 29,
   "metadata": {
    "collapsed": false
   },
   "outputs": [],
   "source": [
    "X_train, X_test, y_train, y_test = train_test_split(X, y, test_size=0.3, stratify=y, random_state=1)"
   ]
  },
  {
   "cell_type": "code",
   "execution_count": 30,
   "metadata": {
    "collapsed": true
   },
   "outputs": [],
   "source": [
    "# define a function to print confusion matrix\n",
    "from sklearn.metrics import confusion_matrix, classification_report\n",
    "\n",
    "def make_confusion(pred):\n",
    "    conmat = np.array(confusion_matrix(y_test, pred, labels=[5,4,3,2,1,0]))\n",
    "    confusion = pd.DataFrame(conmat, index=['5', '4', '3', '2', '1', '0'], \n",
    "                             columns=['pred 5', 'pred 4', 'pred 3', 'pred 2', 'pred 1', 'pred 0'])\n",
    "    print confusion"
   ]
  },
  {
   "cell_type": "code",
   "execution_count": 31,
   "metadata": {
    "collapsed": false
   },
   "outputs": [
    {
     "data": {
      "text/plain": [
       "0.9206631142687981"
      ]
     },
     "execution_count": 31,
     "metadata": {},
     "output_type": "execute_result"
    }
   ],
   "source": [
    "# xgboost accuracy score, pretty impressive\n",
    "xgb = XGBClassifier()\n",
    "xgb.fit(X_train, y_train)\n",
    "xgb_pred = xgb.predict(X_test)\n",
    "xgb.score(X_test, y_test)"
   ]
  },
  {
   "cell_type": "code",
   "execution_count": 32,
   "metadata": {
    "collapsed": false
   },
   "outputs": [
    {
     "name": "stdout",
     "output_type": "stream",
     "text": [
      "   pred 5  pred 4  pred 3  pred 2  pred 1  pred 0\n",
      "5       0       0       0       0      10       0\n",
      "4       0       0       0       0       5       1\n",
      "3       0       0       0       0      16       0\n",
      "2       0       0       0       0      78       0\n",
      "1       0       0       0       0    1116       4\n",
      "0       0       0       0       0      20     439\n"
     ]
    }
   ],
   "source": [
    "# The algorithm failed to catch any rating over 2, which is more or less expected. \n",
    "# But did a good job in seperating 0 and 1.\n",
    "make_confusion(xgb_pred)"
   ]
  },
  {
   "cell_type": "markdown",
   "metadata": {},
   "source": [
    "# Try ngram=(1,2)"
   ]
  },
  {
   "cell_type": "code",
   "execution_count": 33,
   "metadata": {
    "collapsed": false
   },
   "outputs": [],
   "source": [
    "# set min_df=2 to limit dimensions\n",
    "tvec2 = TfidfVectorizer(analyzer=lemmas, strip_accents='unicode', ngram_range=(1,2), min_df=2)\n",
    "complaints2 = pd.DataFrame(tvec2.fit_transform(comp['text']).todense(), columns = tvec2.get_feature_names())"
   ]
  },
  {
   "cell_type": "code",
   "execution_count": 34,
   "metadata": {
    "collapsed": false
   },
   "outputs": [
    {
     "data": {
      "text/plain": [
       "(5629, 9400)"
      ]
     },
     "execution_count": 34,
     "metadata": {},
     "output_type": "execute_result"
    }
   ],
   "source": [
    "# much less features\n",
    "complaints2.shape"
   ]
  },
  {
   "cell_type": "code",
   "execution_count": 35,
   "metadata": {
    "collapsed": true
   },
   "outputs": [],
   "source": [
    "X = pd.concat([complaints2, comp.location, comp.year, comp.length], axis=1).as_matrix()\n",
    "X_train, X_test, y_train, y_test = train_test_split(X, y, test_size=0.3, stratify=y, random_state=1)"
   ]
  },
  {
   "cell_type": "code",
   "execution_count": 36,
   "metadata": {
    "collapsed": false
   },
   "outputs": [
    {
     "data": {
      "text/plain": [
       "0.91947898164594433"
      ]
     },
     "execution_count": 36,
     "metadata": {},
     "output_type": "execute_result"
    }
   ],
   "source": [
    "# marginally lower accuracy score\n",
    "xgb.fit(X_train, y_train)\n",
    "xgb_pred = xgb.predict(X_test)\n",
    "xgb.score(X_test, y_test)"
   ]
  },
  {
   "cell_type": "code",
   "execution_count": 37,
   "metadata": {
    "collapsed": false
   },
   "outputs": [
    {
     "name": "stdout",
     "output_type": "stream",
     "text": [
      "   pred 5  pred 4  pred 3  pred 2  pred 1  pred 0\n",
      "5       0       0       0       0      10       0\n",
      "4       0       0       0       0       5       1\n",
      "3       0       0       0       0      16       0\n",
      "2       0       0       0       0      78       0\n",
      "1       1       0       0       0    1114       5\n",
      "0       0       0       0       0      20     439\n"
     ]
    }
   ],
   "source": [
    "make_confusion(xgb_pred)"
   ]
  },
  {
   "cell_type": "code",
   "execution_count": 38,
   "metadata": {
    "collapsed": false
   },
   "outputs": [
    {
     "data": {
      "text/html": [
       "<div>\n",
       "<table border=\"1\" class=\"dataframe\">\n",
       "  <thead>\n",
       "    <tr style=\"text-align: right;\">\n",
       "      <th></th>\n",
       "      <th>importance</th>\n",
       "    </tr>\n",
       "  </thead>\n",
       "  <tbody>\n",
       "    <tr>\n",
       "      <th>year</th>\n",
       "      <td>0.112727</td>\n",
       "    </tr>\n",
       "    <tr>\n",
       "      <th>location</th>\n",
       "      <td>0.023636</td>\n",
       "    </tr>\n",
       "    <tr>\n",
       "      <th>cable</th>\n",
       "      <td>0.023273</td>\n",
       "    </tr>\n",
       "    <tr>\n",
       "      <th>length</th>\n",
       "      <td>0.022545</td>\n",
       "    </tr>\n",
       "    <tr>\n",
       "      <th>customer</th>\n",
       "      <td>0.020364</td>\n",
       "    </tr>\n",
       "    <tr>\n",
       "      <th>service</th>\n",
       "      <td>0.018909</td>\n",
       "    </tr>\n",
       "    <tr>\n",
       "      <th>good</th>\n",
       "      <td>0.015636</td>\n",
       "    </tr>\n",
       "    <tr>\n",
       "      <th>comcast</th>\n",
       "      <td>0.013818</td>\n",
       "    </tr>\n",
       "    <tr>\n",
       "      <th>never</th>\n",
       "      <td>0.013818</td>\n",
       "    </tr>\n",
       "    <tr>\n",
       "      <th>n't</th>\n",
       "      <td>0.013455</td>\n",
       "    </tr>\n",
       "    <tr>\n",
       "      <th>pretty</th>\n",
       "      <td>0.013091</td>\n",
       "    </tr>\n",
       "    <tr>\n",
       "      <th>basic</th>\n",
       "      <td>0.012364</td>\n",
       "    </tr>\n",
       "    <tr>\n",
       "      <th>thank</th>\n",
       "      <td>0.012364</td>\n",
       "    </tr>\n",
       "    <tr>\n",
       "      <th>watch</th>\n",
       "      <td>0.010909</td>\n",
       "    </tr>\n",
       "    <tr>\n",
       "      <th>done</th>\n",
       "      <td>0.010182</td>\n",
       "    </tr>\n",
       "    <tr>\n",
       "      <th>equal</th>\n",
       "      <td>0.009818</td>\n",
       "    </tr>\n",
       "    <tr>\n",
       "      <th>mike</th>\n",
       "      <td>0.009455</td>\n",
       "    </tr>\n",
       "    <tr>\n",
       "      <th>issue</th>\n",
       "      <td>0.009455</td>\n",
       "    </tr>\n",
       "    <tr>\n",
       "      <th>helped</th>\n",
       "      <td>0.008727</td>\n",
       "    </tr>\n",
       "    <tr>\n",
       "      <th>internet</th>\n",
       "      <td>0.008727</td>\n",
       "    </tr>\n",
       "  </tbody>\n",
       "</table>\n",
       "</div>"
      ],
      "text/plain": [
       "          importance\n",
       "year        0.112727\n",
       "location    0.023636\n",
       "cable       0.023273\n",
       "length      0.022545\n",
       "customer    0.020364\n",
       "service     0.018909\n",
       "good        0.015636\n",
       "comcast     0.013818\n",
       "never       0.013818\n",
       "n't         0.013455\n",
       "pretty      0.013091\n",
       "basic       0.012364\n",
       "thank       0.012364\n",
       "watch       0.010909\n",
       "done        0.010182\n",
       "equal       0.009818\n",
       "mike        0.009455\n",
       "issue       0.009455\n",
       "helped      0.008727\n",
       "internet    0.008727"
      ]
     },
     "execution_count": 38,
     "metadata": {},
     "output_type": "execute_result"
    }
   ],
   "source": [
    "# Check feature importances. Year is very predictive. In terms of issues, cable is the biggest one.\n",
    "feature_importances = pd.DataFrame(xgb.feature_importances_,\n",
    "                                   index = pd.concat([complaints2, comp.location, comp.year, comp.length], axis=1).columns,\n",
    "                                    columns=['importance']).sort_values('importance',\n",
    "                                                                        ascending=False)\n",
    "feature_importances.head(20)"
   ]
  },
  {
   "cell_type": "code",
   "execution_count": 39,
   "metadata": {
    "collapsed": false
   },
   "outputs": [
    {
     "data": {
      "text/plain": [
       "<matplotlib.axes._subplots.AxesSubplot at 0x11fcea8d0>"
      ]
     },
     "execution_count": 39,
     "metadata": {},
     "output_type": "execute_result"
    },
    {
     "data": {
      "image/png": "[encoded data removed]",
      "text/plain": [
       "<matplotlib.figure.Figure at 0x11fceafd0>"
      ]
     },
     "metadata": {},
     "output_type": "display_data"
    }
   ],
   "source": [
    "feature_importances.head(20).plot(kind='bar')"
   ]
  },
  {
   "cell_type": "markdown",
   "metadata": {},
   "source": [
    "# Clustering"
   ]
  },
  {
   "cell_type": "code",
   "execution_count": 40,
   "metadata": {
    "collapsed": true
   },
   "outputs": [],
   "source": [
    "# Load the data of complaints on fcc website. Since there is no target, try to do some unsupervised learning.\n",
    "fcc = pd.read_csv('fcc.csv')"
   ]
  },
  {
   "cell_type": "code",
   "execution_count": 41,
   "metadata": {
    "collapsed": false
   },
   "outputs": [
    {
     "data": {
      "text/html": [
       "<div>\n",
       "<table border=\"1\" class=\"dataframe\">\n",
       "  <thead>\n",
       "    <tr style=\"text-align: right;\">\n",
       "      <th></th>\n",
       "      <th>Ticket #</th>\n",
       "      <th>Customer Complaint</th>\n",
       "      <th>Date</th>\n",
       "      <th>Time</th>\n",
       "      <th>Received Via</th>\n",
       "      <th>City</th>\n",
       "      <th>State</th>\n",
       "      <th>Zip code</th>\n",
       "      <th>Status</th>\n",
       "      <th>Filing on Behalf of Someone</th>\n",
       "      <th>Description</th>\n",
       "    </tr>\n",
       "  </thead>\n",
       "  <tbody>\n",
       "    <tr>\n",
       "      <th>0</th>\n",
       "      <td>250635</td>\n",
       "      <td>Comcast Cable Internet Speeds</td>\n",
       "      <td>4/22/2015</td>\n",
       "      <td>3:53:50 PM</td>\n",
       "      <td>Internet</td>\n",
       "      <td>Abingdon</td>\n",
       "      <td>Maryland</td>\n",
       "      <td>21009</td>\n",
       "      <td>Closed</td>\n",
       "      <td>No</td>\n",
       "      <td>I have been contacting Comcast Internet Techni...</td>\n",
       "    </tr>\n",
       "    <tr>\n",
       "      <th>1</th>\n",
       "      <td>223441</td>\n",
       "      <td>Payment disappear - service got disconnected</td>\n",
       "      <td>4/8/2015</td>\n",
       "      <td>10:22:56 AM</td>\n",
       "      <td>Internet</td>\n",
       "      <td>Acworth</td>\n",
       "      <td>Georgia</td>\n",
       "      <td>30102</td>\n",
       "      <td>Closed</td>\n",
       "      <td>No</td>\n",
       "      <td>Back in January 2015 I made 2 payments: One fo...</td>\n",
       "    </tr>\n",
       "    <tr>\n",
       "      <th>2</th>\n",
       "      <td>242732</td>\n",
       "      <td>Speed and Service</td>\n",
       "      <td>4/18/2015</td>\n",
       "      <td>9:55:47 AM</td>\n",
       "      <td>Internet</td>\n",
       "      <td>Acworth</td>\n",
       "      <td>Georgia</td>\n",
       "      <td>30101</td>\n",
       "      <td>Closed</td>\n",
       "      <td>Yes</td>\n",
       "      <td>Our home is located at in Acworth Georgia 3010...</td>\n",
       "    </tr>\n",
       "    <tr>\n",
       "      <th>3</th>\n",
       "      <td>277946</td>\n",
       "      <td>Comcast Imposed a New Usage Cap of 300GB that ...</td>\n",
       "      <td>5/7/2015</td>\n",
       "      <td>11:59:35 AM</td>\n",
       "      <td>Internet</td>\n",
       "      <td>Acworth</td>\n",
       "      <td>Georgia</td>\n",
       "      <td>30101</td>\n",
       "      <td>Open</td>\n",
       "      <td>Yes</td>\n",
       "      <td>Comcast in the Atlanta area has just put into ...</td>\n",
       "    </tr>\n",
       "    <tr>\n",
       "      <th>4</th>\n",
       "      <td>307175</td>\n",
       "      <td>Comcast not working and no service to boot</td>\n",
       "      <td>5/26/2015</td>\n",
       "      <td>1:25:26 PM</td>\n",
       "      <td>Internet</td>\n",
       "      <td>Acworth</td>\n",
       "      <td>Georgia</td>\n",
       "      <td>30101</td>\n",
       "      <td>Solved</td>\n",
       "      <td>No</td>\n",
       "      <td>I have been a customer of Comcast of some sort...</td>\n",
       "    </tr>\n",
       "  </tbody>\n",
       "</table>\n",
       "</div>"
      ],
      "text/plain": [
       "  Ticket #                                 Customer Complaint       Date  \\\n",
       "0   250635                      Comcast Cable Internet Speeds  4/22/2015   \n",
       "1   223441       Payment disappear - service got disconnected   4/8/2015   \n",
       "2   242732                                  Speed and Service  4/18/2015   \n",
       "3   277946  Comcast Imposed a New Usage Cap of 300GB that ...   5/7/2015   \n",
       "4   307175         Comcast not working and no service to boot  5/26/2015   \n",
       "\n",
       "          Time Received Via      City     State  Zip code  Status  \\\n",
       "0   3:53:50 PM     Internet  Abingdon  Maryland     21009  Closed   \n",
       "1  10:22:56 AM     Internet   Acworth   Georgia     30102  Closed   \n",
       "2   9:55:47 AM     Internet   Acworth   Georgia     30101  Closed   \n",
       "3  11:59:35 AM     Internet   Acworth   Georgia     30101    Open   \n",
       "4   1:25:26 PM     Internet   Acworth   Georgia     30101  Solved   \n",
       "\n",
       "  Filing on Behalf of Someone  \\\n",
       "0                          No   \n",
       "1                          No   \n",
       "2                         Yes   \n",
       "3                         Yes   \n",
       "4                          No   \n",
       "\n",
       "                                         Description  \n",
       "0  I have been contacting Comcast Internet Techni...  \n",
       "1  Back in January 2015 I made 2 payments: One fo...  \n",
       "2  Our home is located at in Acworth Georgia 3010...  \n",
       "3  Comcast in the Atlanta area has just put into ...  \n",
       "4  I have been a customer of Comcast of some sort...  "
      ]
     },
     "execution_count": 41,
     "metadata": {},
     "output_type": "execute_result"
    }
   ],
   "source": [
    "fcc.head()"
   ]
  },
  {
   "cell_type": "code",
   "execution_count": 42,
   "metadata": {
    "collapsed": false
   },
   "outputs": [
    {
     "data": {
      "text/plain": [
       "Comcast                                                                                      83\n",
       "Comcast Internet                                                                             18\n",
       "Comcast Data Cap                                                                             17\n",
       "comcast                                                                                      13\n",
       "Data Caps                                                                                    11\n",
       "Comcast Billing                                                                              11\n",
       "Comcast Data Caps                                                                            11\n",
       "Unfair Billing Practices                                                                      9\n",
       "Data Cap                                                                                      8\n",
       "Comcast data cap                                                                              8\n",
       "Comcast internet                                                                              8\n",
       "Comcast/Xfinity                                                                               8\n",
       "Internet speed                                                                                8\n",
       "Comcast data caps                                                                             8\n",
       "Comcast billing                                                                               6\n",
       "Comcast service                                                                               6\n",
       "Comcast Service                                                                               6\n",
       "COMCAST                                                                                       6\n",
       "Billing                                                                                       6\n",
       "Comcast Complaint                                                                             5\n",
       "Comcast complaint                                                                             5\n",
       "Comcast Internet Service                                                                      5\n",
       "Internet Speed                                                                                5\n",
       "Comcast internet service                                                                      4\n",
       "Comcast Billing and Service Issues                                                            4\n",
       "Comcast Internet Complaint                                                                    4\n",
       "availabilty                                                                                   4\n",
       "Comcast Billing Complaint                                                                     4\n",
       "Comcast Issues                                                                                4\n",
       "Comcast Unfair Billing Practices                                                              4\n",
       "                                                                                             ..\n",
       "Comcast Corporation Data Caps                                                                 1\n",
       "Comcast misleading HSI customers                                                              1\n",
       "Internet Availability and Speed                                                               1\n",
       "Comcast billing frauds                                                                        1\n",
       "Comcast Data Meter/Cap                                                                        1\n",
       "Bill Flucuation                                                                               1\n",
       "Comcast Disconnect                                                                            1\n",
       "comcast service overcharge for internet and phone                                             1\n",
       "Misleading communication.                                                                     1\n",
       "Unresolved Comcast fraudulent billing                                                         1\n",
       "Unclear policies                                                                              1\n",
       "HBO GO blocked on Amazon Fire TV                                                              1\n",
       "Comcast unreliable speed/ service                                                             1\n",
       "Comcast Targeted Blocking of Content                                                          1\n",
       "Internet Uasge/Overage                                                                        1\n",
       "double billing after change of service                                                        1\n",
       "Pricing Problems Even After Promises                                                          1\n",
       "Comcast does not disclose the Internet speed I'm paying for anywhere on my bill or online     1\n",
       "Billing discrepencies and service termination hurdles                                         1\n",
       "Comcast bill way too high for such slow speeds                                                1\n",
       "No access to HBO Go on Playstation 4 through Comcast                                          1\n",
       "Charge for service they won't deliver                                                         1\n",
       "Increase in Price of internet                                                                 1\n",
       "Unauthorized 2-Year Contract With Comcast                                                     1\n",
       "COMCAST INTERNET CONNECTION CHEAT                                                             1\n",
       "Unfair pricing practices                                                                      1\n",
       "Internet/Phone Billing Services                                                               1\n",
       "Comcast.net                                                                                   1\n",
       "Fraudulent billing, erroneous billing, overbilling                                            1\n",
       "Comcast Billing / Speed Issues                                                                1\n",
       "Name: Customer Complaint, dtype: int64"
      ]
     },
     "execution_count": 42,
     "metadata": {},
     "output_type": "execute_result"
    }
   ],
   "source": [
    "fcc['Customer Complaint'].value_counts()"
   ]
  },
  {
   "cell_type": "code",
   "execution_count": 43,
   "metadata": {
    "collapsed": true
   },
   "outputs": [],
   "source": [
    "# Tokenize description\n",
    "descrip = tvec.fit_transform(fcc.Description)"
   ]
  },
  {
   "cell_type": "code",
   "execution_count": 44,
   "metadata": {
    "collapsed": false
   },
   "outputs": [
    {
     "data": {
      "text/plain": [
       "(2225, 17131)"
      ]
     },
     "execution_count": 44,
     "metadata": {},
     "output_type": "execute_result"
    }
   ],
   "source": [
    "descrip.shape"
   ]
  },
  {
   "cell_type": "code",
   "execution_count": 45,
   "metadata": {
    "collapsed": true
   },
   "outputs": [],
   "source": [
    "from sklearn.cluster import KMeans\n",
    "from sklearn import metrics"
   ]
  },
  {
   "cell_type": "code",
   "execution_count": 46,
   "metadata": {
    "collapsed": false
   },
   "outputs": [],
   "source": [
    "# cluster description into 2 clusters\n",
    "km = KMeans(n_clusters=2, n_jobs=-1, random_state=1)"
   ]
  },
  {
   "cell_type": "code",
   "execution_count": 47,
   "metadata": {
    "collapsed": false
   },
   "outputs": [
    {
     "data": {
      "text/plain": [
       "array([0, 0, 0, ..., 1, 0, 1], dtype=int32)"
      ]
     },
     "execution_count": 47,
     "metadata": {},
     "output_type": "execute_result"
    }
   ],
   "source": [
    "km.fit(descrip)\n",
    "km.labels_"
   ]
  },
  {
   "cell_type": "code",
   "execution_count": 48,
   "metadata": {
    "collapsed": false
   },
   "outputs": [],
   "source": [
    "fcc['cluster'] = km.labels_"
   ]
  },
  {
   "cell_type": "code",
   "execution_count": 49,
   "metadata": {
    "collapsed": false
   },
   "outputs": [
    {
     "data": {
      "text/plain": [
       "0    1502\n",
       "1     723\n",
       "Name: cluster, dtype: int64"
      ]
     },
     "execution_count": 49,
     "metadata": {},
     "output_type": "execute_result"
    }
   ],
   "source": [
    "fcc.cluster.value_counts()"
   ]
  },
  {
   "cell_type": "code",
   "execution_count": 50,
   "metadata": {
    "collapsed": true
   },
   "outputs": [],
   "source": [
    "# Tokenize customer compliants\n",
    "topic = tvec.fit_transform(fcc['Customer Complaint'])"
   ]
  },
  {
   "cell_type": "code",
   "execution_count": 51,
   "metadata": {
    "collapsed": false
   },
   "outputs": [
    {
     "data": {
      "text/plain": [
       "(2225, 1397)"
      ]
     },
     "execution_count": 51,
     "metadata": {},
     "output_type": "execute_result"
    }
   ],
   "source": [
    "topic.shape"
   ]
  },
  {
   "cell_type": "code",
   "execution_count": 52,
   "metadata": {
    "collapsed": true
   },
   "outputs": [],
   "source": [
    "# cluster Customer Complaints\n",
    "km.fit(topic)\n",
    "fcc['topic'] = km.labels_"
   ]
  },
  {
   "cell_type": "code",
   "execution_count": 53,
   "metadata": {
    "collapsed": false
   },
   "outputs": [
    {
     "data": {
      "text/html": [
       "<div>\n",
       "<table border=\"1\" class=\"dataframe\">\n",
       "  <thead>\n",
       "    <tr style=\"text-align: right;\">\n",
       "      <th></th>\n",
       "      <th>Ticket #</th>\n",
       "      <th>Customer Complaint</th>\n",
       "      <th>Date</th>\n",
       "      <th>Time</th>\n",
       "      <th>Received Via</th>\n",
       "      <th>City</th>\n",
       "      <th>State</th>\n",
       "      <th>Zip code</th>\n",
       "      <th>Status</th>\n",
       "      <th>Filing on Behalf of Someone</th>\n",
       "      <th>Description</th>\n",
       "      <th>cluster</th>\n",
       "      <th>topic</th>\n",
       "    </tr>\n",
       "  </thead>\n",
       "  <tbody>\n",
       "    <tr>\n",
       "      <th>0</th>\n",
       "      <td>250635</td>\n",
       "      <td>Comcast Cable Internet Speeds</td>\n",
       "      <td>4/22/2015</td>\n",
       "      <td>3:53:50 PM</td>\n",
       "      <td>Internet</td>\n",
       "      <td>Abingdon</td>\n",
       "      <td>Maryland</td>\n",
       "      <td>21009</td>\n",
       "      <td>Closed</td>\n",
       "      <td>No</td>\n",
       "      <td>I have been contacting Comcast Internet Techni...</td>\n",
       "      <td>0</td>\n",
       "      <td>0</td>\n",
       "    </tr>\n",
       "    <tr>\n",
       "      <th>1</th>\n",
       "      <td>223441</td>\n",
       "      <td>Payment disappear - service got disconnected</td>\n",
       "      <td>4/8/2015</td>\n",
       "      <td>10:22:56 AM</td>\n",
       "      <td>Internet</td>\n",
       "      <td>Acworth</td>\n",
       "      <td>Georgia</td>\n",
       "      <td>30102</td>\n",
       "      <td>Closed</td>\n",
       "      <td>No</td>\n",
       "      <td>Back in January 2015 I made 2 payments: One fo...</td>\n",
       "      <td>0</td>\n",
       "      <td>0</td>\n",
       "    </tr>\n",
       "    <tr>\n",
       "      <th>2</th>\n",
       "      <td>242732</td>\n",
       "      <td>Speed and Service</td>\n",
       "      <td>4/18/2015</td>\n",
       "      <td>9:55:47 AM</td>\n",
       "      <td>Internet</td>\n",
       "      <td>Acworth</td>\n",
       "      <td>Georgia</td>\n",
       "      <td>30101</td>\n",
       "      <td>Closed</td>\n",
       "      <td>Yes</td>\n",
       "      <td>Our home is located at in Acworth Georgia 3010...</td>\n",
       "      <td>0</td>\n",
       "      <td>0</td>\n",
       "    </tr>\n",
       "    <tr>\n",
       "      <th>3</th>\n",
       "      <td>277946</td>\n",
       "      <td>Comcast Imposed a New Usage Cap of 300GB that ...</td>\n",
       "      <td>5/7/2015</td>\n",
       "      <td>11:59:35 AM</td>\n",
       "      <td>Internet</td>\n",
       "      <td>Acworth</td>\n",
       "      <td>Georgia</td>\n",
       "      <td>30101</td>\n",
       "      <td>Open</td>\n",
       "      <td>Yes</td>\n",
       "      <td>Comcast in the Atlanta area has just put into ...</td>\n",
       "      <td>0</td>\n",
       "      <td>0</td>\n",
       "    </tr>\n",
       "    <tr>\n",
       "      <th>4</th>\n",
       "      <td>307175</td>\n",
       "      <td>Comcast not working and no service to boot</td>\n",
       "      <td>5/26/2015</td>\n",
       "      <td>1:25:26 PM</td>\n",
       "      <td>Internet</td>\n",
       "      <td>Acworth</td>\n",
       "      <td>Georgia</td>\n",
       "      <td>30101</td>\n",
       "      <td>Solved</td>\n",
       "      <td>No</td>\n",
       "      <td>I have been a customer of Comcast of some sort...</td>\n",
       "      <td>0</td>\n",
       "      <td>0</td>\n",
       "    </tr>\n",
       "  </tbody>\n",
       "</table>\n",
       "</div>"
      ],
      "text/plain": [
       "  Ticket #                                 Customer Complaint       Date  \\\n",
       "0   250635                      Comcast Cable Internet Speeds  4/22/2015   \n",
       "1   223441       Payment disappear - service got disconnected   4/8/2015   \n",
       "2   242732                                  Speed and Service  4/18/2015   \n",
       "3   277946  Comcast Imposed a New Usage Cap of 300GB that ...   5/7/2015   \n",
       "4   307175         Comcast not working and no service to boot  5/26/2015   \n",
       "\n",
       "          Time Received Via      City     State  Zip code  Status  \\\n",
       "0   3:53:50 PM     Internet  Abingdon  Maryland     21009  Closed   \n",
       "1  10:22:56 AM     Internet   Acworth   Georgia     30102  Closed   \n",
       "2   9:55:47 AM     Internet   Acworth   Georgia     30101  Closed   \n",
       "3  11:59:35 AM     Internet   Acworth   Georgia     30101    Open   \n",
       "4   1:25:26 PM     Internet   Acworth   Georgia     30101  Solved   \n",
       "\n",
       "  Filing on Behalf of Someone  \\\n",
       "0                          No   \n",
       "1                          No   \n",
       "2                         Yes   \n",
       "3                         Yes   \n",
       "4                          No   \n",
       "\n",
       "                                         Description  cluster  topic  \n",
       "0  I have been contacting Comcast Internet Techni...        0      0  \n",
       "1  Back in January 2015 I made 2 payments: One fo...        0      0  \n",
       "2  Our home is located at in Acworth Georgia 3010...        0      0  \n",
       "3  Comcast in the Atlanta area has just put into ...        0      0  \n",
       "4  I have been a customer of Comcast of some sort...        0      0  "
      ]
     },
     "execution_count": 53,
     "metadata": {},
     "output_type": "execute_result"
    }
   ],
   "source": [
    "fcc.head()"
   ]
  },
  {
   "cell_type": "code",
   "execution_count": 54,
   "metadata": {
    "collapsed": false
   },
   "outputs": [
    {
     "data": {
      "text/plain": [
       "0.61258426966292134"
      ]
     },
     "execution_count": 54,
     "metadata": {},
     "output_type": "execute_result"
    }
   ],
   "source": [
    "# topics extracted from Customer Complaints and Description are 60% similar when clusters=2.\n",
    "metrics.accuracy_score(fcc.topic, fcc.cluster)"
   ]
  },
  {
   "cell_type": "markdown",
   "metadata": {
    "collapsed": true
   },
   "source": [
    "# Word Cloud"
   ]
  },
  {
   "cell_type": "code",
   "execution_count": 55,
   "metadata": {
    "collapsed": true
   },
   "outputs": [],
   "source": [
    "from PIL import Image\n",
    "from os import path\n",
    "import random\n",
    "from wordcloud import WordCloud, STOPWORDS\n",
    "import string"
   ]
  },
  {
   "cell_type": "code",
   "execution_count": 91,
   "metadata": {
    "collapsed": false
   },
   "outputs": [],
   "source": [
    "wordlist = []\n",
    "for index, row in fcc.iterrows():\n",
    "    wordlist.append((' '.join(row['Description'].lower().split())))"
   ]
  },
  {
   "cell_type": "code",
   "execution_count": 92,
   "metadata": {
    "collapsed": false
   },
   "outputs": [
    {
     "data": {
      "image/png": "[encoded data removed]",
      "text/plain": [
       "<matplotlib.figure.Figure at 0x11828f810>"
      ]
     },
     "metadata": {},
     "output_type": "display_data"
    }
   ],
   "source": [
    "# read the mask image\n",
    "mask = np.array(Image.open('wordcloud.png'))\n",
    "\n",
    "stop_words = set(STOPWORDS)\n",
    "stop_words.add(\"int\")\n",
    "stop_words.add(\"ext\")\n",
    "\n",
    "wc = WordCloud(max_words=1000, margin=10, stopwords=stop_words, mask=mask,\n",
    "               random_state=1).generate(' '.join(wordlist))\n",
    "# store default colored image\n",
    "default_colors = wc.to_array()\n",
    "plt.figure(figsize=(11,9))\n",
    "wc.to_file(\"cloud.png\")\n",
    "plt.axis(\"off\")\n",
    "plt.show()"
   ]
  },
  {
   "cell_type": "code",
   "execution_count": null,
   "metadata": {
    "collapsed": true
   },
   "outputs": [],
   "source": []
  }
 ],
 "metadata": {
  "anaconda-cloud": {},
  "kernelspec": {
   "display_name": "Python [Root]",
   "language": "python",
   "name": "Python [Root]"
  },
  "language_info": {
   "codemirror_mode": {
    "name": "ipython",
    "version": 2
   },
   "file_extension": ".py",
   "mimetype": "text/x-python",
   "name": "python",
   "nbconvert_exporter": "python",
   "pygments_lexer": "ipython2",
   "version": "2.7.12"
  }
 },
 "nbformat": 4,
 "nbformat_minor": 0
}
