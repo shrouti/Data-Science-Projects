{
 "cells": [
  {
   "cell_type": "markdown",
   "metadata": {},
   "source": [
    "# Load the data"
   ]
  },
  {
   "cell_type": "code",
   "execution_count": 3,
   "metadata": {
    "collapsed": false
   },
   "outputs": [
    {
     "data": {
      "text/plain": [
       "Date                     datetime64[ns]\n",
       "Store Number                      int64\n",
       "City                             object\n",
       "Zip Code                         object\n",
       "County Number                   float64\n",
       "County                           object\n",
       "Category                        float64\n",
       "Category Name                    object\n",
       "Vendor Number                     int64\n",
       "Item Number                       int64\n",
       "Item Description                 object\n",
       "Bottle Volume (ml)                int64\n",
       "State Bottle Cost                object\n",
       "State Bottle Retail              object\n",
       "Bottles Sold                      int64\n",
       "Sale (Dollars)                   object\n",
       "Volume Sold (Liters)            float64\n",
       "Volume Sold (Gallons)           float64\n",
       "dtype: object"
      ]
     },
     "execution_count": 3,
     "metadata": {},
     "output_type": "execute_result"
    }
   ],
   "source": [
    "# import data and check datatype\n",
    "\n",
    "import pandas as pd\n",
    "df = pd.read_csv('liquor10.csv')\n",
    "df.Date = pd.to_datetime(df.Date)\n",
    "df.dtypes"
   ]
  },
  {
   "cell_type": "code",
   "execution_count": 4,
   "metadata": {
    "collapsed": false
   },
   "outputs": [
    {
     "data": {
      "text/plain": [
       "(270955, 18)"
      ]
     },
     "execution_count": 4,
     "metadata": {},
     "output_type": "execute_result"
    }
   ],
   "source": [
    "df.shape"
   ]
  },
  {
   "cell_type": "code",
   "execution_count": 5,
   "metadata": {
    "collapsed": false
   },
   "outputs": [
    {
     "data": {
      "text/plain": [
       "Date                        0\n",
       "Store Number                0\n",
       "City                        0\n",
       "Zip Code                    0\n",
       "County Number            1077\n",
       "County                   1077\n",
       "Category                   68\n",
       "Category Name             632\n",
       "Vendor Number               0\n",
       "Item Number                 0\n",
       "Item Description            0\n",
       "Bottle Volume (ml)          0\n",
       "State Bottle Cost           0\n",
       "State Bottle Retail         0\n",
       "Bottles Sold                0\n",
       "Sale (Dollars)              0\n",
       "Volume Sold (Liters)        0\n",
       "Volume Sold (Gallons)       0\n",
       "dtype: int64"
      ]
     },
     "execution_count": 5,
     "metadata": {},
     "output_type": "execute_result"
    }
   ],
   "source": [
    "df.isnull().sum()"
   ]
  },
  {
   "cell_type": "code",
   "execution_count": 6,
   "metadata": {
    "collapsed": true
   },
   "outputs": [],
   "source": [
    "# less than 1% of missing value, not a big deal to drop\n",
    "\n",
    "df.dropna(inplace=True)"
   ]
  },
  {
   "cell_type": "code",
   "execution_count": 7,
   "metadata": {
    "collapsed": false
   },
   "outputs": [],
   "source": [
    "# convert dollar columns to numeric datatype\n",
    "\n",
    "df['cost']=map(lambda x: float(x[1:]), df['State Bottle Cost'])\n",
    "df['retail']=map(lambda x: float(x[1:]), df['State Bottle Retail'])\n",
    "df['sale']=map(lambda x: float(x[1:]), df['Sale (Dollars)'])"
   ]
  },
  {
   "cell_type": "code",
   "execution_count": 8,
   "metadata": {
    "collapsed": false
   },
   "outputs": [],
   "source": [
    "# create 'season' feature to use in the model\n",
    "\n",
    "df['season'] = df.Date.dt.quarter"
   ]
  },
  {
   "cell_type": "code",
   "execution_count": 9,
   "metadata": {
    "collapsed": false
   },
   "outputs": [],
   "source": [
    "# calculate the sum of sale, volume and bottles sold based on location and time\n",
    "\n",
    "saledata = df.sale.groupby([df['County Number'], df['season']]).sum()\n",
    "volumedata = df['Volume Sold (Liters)'].groupby([df['County Number'], df['season']]).sum()\n",
    "bottledata = df['Bottles Sold'].groupby([df['County Number'], df['season']]).sum()\n",
    "sumdata = pd.concat([saledata, volumedata, bottledata], axis = 1)\n",
    "sumdata.reset_index(level = ['County Number', 'season'], inplace=True)"
   ]
  },
  {
   "cell_type": "code",
   "execution_count": 10,
   "metadata": {
    "collapsed": true
   },
   "outputs": [],
   "source": [
    "# calculate the average price for different location and season\n",
    "\n",
    "sumdata['price'] = sumdata.sale/sumdata['Bottles Sold']"
   ]
  },
  {
   "cell_type": "code",
   "execution_count": 11,
   "metadata": {
    "collapsed": false,
    "scrolled": false
   },
   "outputs": [
    {
     "data": {
      "text/html": [
       "<div>\n",
       "<table border=\"1\" class=\"dataframe\">\n",
       "  <thead>\n",
       "    <tr style=\"text-align: right;\">\n",
       "      <th></th>\n",
       "      <th>County Number</th>\n",
       "      <th>season</th>\n",
       "      <th>sale</th>\n",
       "      <th>Volume Sold (Liters)</th>\n",
       "      <th>Bottles Sold</th>\n",
       "      <th>price</th>\n",
       "    </tr>\n",
       "  </thead>\n",
       "  <tbody>\n",
       "    <tr>\n",
       "      <th>0</th>\n",
       "      <td>1.0</td>\n",
       "      <td>1</td>\n",
       "      <td>22019.02</td>\n",
       "      <td>1664.16</td>\n",
       "      <td>1945</td>\n",
       "      <td>11.320833</td>\n",
       "    </tr>\n",
       "    <tr>\n",
       "      <th>1</th>\n",
       "      <td>1.0</td>\n",
       "      <td>2</td>\n",
       "      <td>10820.66</td>\n",
       "      <td>842.73</td>\n",
       "      <td>894</td>\n",
       "      <td>12.103647</td>\n",
       "    </tr>\n",
       "    <tr>\n",
       "      <th>2</th>\n",
       "      <td>1.0</td>\n",
       "      <td>3</td>\n",
       "      <td>11974.03</td>\n",
       "      <td>961.33</td>\n",
       "      <td>921</td>\n",
       "      <td>13.001118</td>\n",
       "    </tr>\n",
       "    <tr>\n",
       "      <th>3</th>\n",
       "      <td>1.0</td>\n",
       "      <td>4</td>\n",
       "      <td>10730.49</td>\n",
       "      <td>891.62</td>\n",
       "      <td>890</td>\n",
       "      <td>12.056730</td>\n",
       "    </tr>\n",
       "    <tr>\n",
       "      <th>4</th>\n",
       "      <td>2.0</td>\n",
       "      <td>1</td>\n",
       "      <td>4450.17</td>\n",
       "      <td>342.37</td>\n",
       "      <td>375</td>\n",
       "      <td>11.867120</td>\n",
       "    </tr>\n",
       "  </tbody>\n",
       "</table>\n",
       "</div>"
      ],
      "text/plain": [
       "   County Number  season      sale  Volume Sold (Liters)  Bottles Sold  \\\n",
       "0            1.0       1  22019.02               1664.16          1945   \n",
       "1            1.0       2  10820.66                842.73           894   \n",
       "2            1.0       3  11974.03                961.33           921   \n",
       "3            1.0       4  10730.49                891.62           890   \n",
       "4            2.0       1   4450.17                342.37           375   \n",
       "\n",
       "       price  \n",
       "0  11.320833  \n",
       "1  12.103647  \n",
       "2  13.001118  \n",
       "3  12.056730  \n",
       "4  11.867120  "
      ]
     },
     "execution_count": 11,
     "metadata": {},
     "output_type": "execute_result"
    }
   ],
   "source": [
    "sumdata.head()"
   ]
  },
  {
   "cell_type": "markdown",
   "metadata": {},
   "source": [
    "# Explore the data"
   ]
  },
  {
   "cell_type": "code",
   "execution_count": 12,
   "metadata": {
    "collapsed": false
   },
   "outputs": [
    {
     "data": {
      "text/plain": [
       "<seaborn.axisgrid.JointGrid at 0x11f916f90>"
      ]
     },
     "execution_count": 12,
     "metadata": {},
     "output_type": "execute_result"
    },
    {
     "data": {
      "image/png": "[encoded data removed]",
      "text/plain": [
       "<matplotlib.figure.Figure at 0x11f916fd0>"
      ]
     },
     "metadata": {},
     "output_type": "display_data"
    }
   ],
   "source": [
    "# plot price vs sale, could identify some outliers\n",
    "\n",
    "import seaborn as sns\n",
    "import matplotlib.pyplot as plt\n",
    "%matplotlib inline\n",
    "\n",
    "sns.jointplot(sumdata.price, sumdata.sale, kind='reg')"
   ]
  },
  {
   "cell_type": "code",
   "execution_count": 13,
   "metadata": {
    "collapsed": false
   },
   "outputs": [
    {
     "data": {
      "text/plain": [
       "<seaborn.axisgrid.JointGrid at 0x121ecc050>"
      ]
     },
     "execution_count": 13,
     "metadata": {},
     "output_type": "execute_result"
    },
    {
     "data": {
      "image/png": "[encoded data removed]",
      "text/plain": [
       "<matplotlib.figure.Figure at 0x122273850>"
      ]
     },
     "metadata": {},
     "output_type": "display_data"
    }
   ],
   "source": [
    "# plot bottles sold vs sale, perfect correlation as expected\n",
    "\n",
    "sns.jointplot(sumdata['Bottles Sold'], sumdata.sale, kind='reg')"
   ]
  },
  {
   "cell_type": "code",
   "execution_count": 14,
   "metadata": {
    "collapsed": false
   },
   "outputs": [],
   "source": [
    "# drop outliers over 3 standard deviation from the mean\n",
    "\n",
    "import numpy as np\n",
    "from scipy import stats\n",
    "\n",
    "modeldata = sumdata[np.abs(stats.zscore(sumdata)<3).all(axis=1)]"
   ]
  },
  {
   "cell_type": "markdown",
   "metadata": {},
   "source": [
    "# Refine the data"
   ]
  },
  {
   "cell_type": "code",
   "execution_count": 15,
   "metadata": {
    "collapsed": false
   },
   "outputs": [
    {
     "data": {
      "text/html": [
       "<div>\n",
       "<table border=\"1\" class=\"dataframe\">\n",
       "  <thead>\n",
       "    <tr style=\"text-align: right;\">\n",
       "      <th></th>\n",
       "      <th>County Number</th>\n",
       "      <th>season</th>\n",
       "      <th>sale</th>\n",
       "      <th>Volume Sold (Liters)</th>\n",
       "      <th>Bottles Sold</th>\n",
       "      <th>price</th>\n",
       "    </tr>\n",
       "  </thead>\n",
       "  <tbody>\n",
       "    <tr>\n",
       "      <th>County Number</th>\n",
       "      <td>1.000000</td>\n",
       "      <td>0.007773</td>\n",
       "      <td>0.057974</td>\n",
       "      <td>0.052634</td>\n",
       "      <td>0.047641</td>\n",
       "      <td>0.070149</td>\n",
       "    </tr>\n",
       "    <tr>\n",
       "      <th>season</th>\n",
       "      <td>0.007773</td>\n",
       "      <td>1.000000</td>\n",
       "      <td>-0.050248</td>\n",
       "      <td>-0.063149</td>\n",
       "      <td>-0.051682</td>\n",
       "      <td>0.092015</td>\n",
       "    </tr>\n",
       "    <tr>\n",
       "      <th>sale</th>\n",
       "      <td>0.057974</td>\n",
       "      <td>-0.050248</td>\n",
       "      <td>1.000000</td>\n",
       "      <td>0.997190</td>\n",
       "      <td>0.995112</td>\n",
       "      <td>0.100977</td>\n",
       "    </tr>\n",
       "    <tr>\n",
       "      <th>Volume Sold (Liters)</th>\n",
       "      <td>0.052634</td>\n",
       "      <td>-0.063149</td>\n",
       "      <td>0.997190</td>\n",
       "      <td>1.000000</td>\n",
       "      <td>0.995004</td>\n",
       "      <td>0.094661</td>\n",
       "    </tr>\n",
       "    <tr>\n",
       "      <th>Bottles Sold</th>\n",
       "      <td>0.047641</td>\n",
       "      <td>-0.051682</td>\n",
       "      <td>0.995112</td>\n",
       "      <td>0.995004</td>\n",
       "      <td>1.000000</td>\n",
       "      <td>0.057417</td>\n",
       "    </tr>\n",
       "    <tr>\n",
       "      <th>price</th>\n",
       "      <td>0.070149</td>\n",
       "      <td>0.092015</td>\n",
       "      <td>0.100977</td>\n",
       "      <td>0.094661</td>\n",
       "      <td>0.057417</td>\n",
       "      <td>1.000000</td>\n",
       "    </tr>\n",
       "  </tbody>\n",
       "</table>\n",
       "</div>"
      ],
      "text/plain": [
       "                      County Number    season      sale  Volume Sold (Liters)  \\\n",
       "County Number              1.000000  0.007773  0.057974              0.052634   \n",
       "season                     0.007773  1.000000 -0.050248             -0.063149   \n",
       "sale                       0.057974 -0.050248  1.000000              0.997190   \n",
       "Volume Sold (Liters)       0.052634 -0.063149  0.997190              1.000000   \n",
       "Bottles Sold               0.047641 -0.051682  0.995112              0.995004   \n",
       "price                      0.070149  0.092015  0.100977              0.094661   \n",
       "\n",
       "                      Bottles Sold     price  \n",
       "County Number             0.047641  0.070149  \n",
       "season                   -0.051682  0.092015  \n",
       "sale                      0.995112  0.100977  \n",
       "Volume Sold (Liters)      0.995004  0.094661  \n",
       "Bottles Sold              1.000000  0.057417  \n",
       "price                     0.057417  1.000000  "
      ]
     },
     "execution_count": 15,
     "metadata": {},
     "output_type": "execute_result"
    }
   ],
   "source": [
    "# check the correlation between features\n",
    "\n",
    "modeldata.corr()"
   ]
  },
  {
   "cell_type": "code",
   "execution_count": 16,
   "metadata": {
    "collapsed": false
   },
   "outputs": [],
   "source": [
    "# assiagn independent and dependent variables, and create dummies for categorical features\n",
    "\n",
    "from sklearn import metrics\n",
    "from sklearn import preprocessing\n",
    "\n",
    "categorical = preprocessing.OneHotEncoder(categorical_features = [0,1])\n",
    "X = modeldata[['County Number', 'season', 'price', 'Bottles Sold']]\n",
    "y = modeldata['sale']\n",
    "X = categorical.fit_transform(X)"
   ]
  },
  {
   "cell_type": "markdown",
   "metadata": {},
   "source": [
    "# Build your models"
   ]
  },
  {
   "cell_type": "code",
   "execution_count": 17,
   "metadata": {
    "collapsed": false
   },
   "outputs": [
    {
     "name": "stdout",
     "output_type": "stream",
     "text": [
      "39.0409124542\n",
      "0.997916610932\n",
      "6193.65532705\n"
     ]
    }
   ],
   "source": [
    "# build linear regression with lasso regularization to address multicollinearity problem brought by dummies.\n",
    "# Since I created n dummies for n categories with OneHotEncoder, there will be perfect multicollinearity.\n",
    "# By applying Lasso to my model, redundent dummies will be dropped from the model.\n",
    "\n",
    "from sklearn.cross_validation import train_test_split\n",
    "from sklearn.linear_model import LassoCV, Lasso\n",
    "\n",
    "X_train, X_test, y_train, y_test = train_test_split(X, y, test_size=0.3, random_state=99)\n",
    "lassocv = LassoCV(n_alphas=100, normalize=True, random_state=1)\n",
    "lassocv.fit(X_train, y_train)\n",
    "\n",
    "print lassocv.alpha_\n",
    "\n",
    "y_pred = lassocv.predict(X_test)\n",
    "\n",
    "print metrics.r2_score(y_test, y_pred)\n",
    "print np.sqrt(metrics.mean_squared_error(y_test, y_pred))"
   ]
  },
  {
   "cell_type": "code",
   "execution_count": 18,
   "metadata": {
    "collapsed": false
   },
   "outputs": [
    {
     "data": {
      "text/plain": [
       "<matplotlib.collections.PathCollection at 0x122bf5a90>"
      ]
     },
     "execution_count": 18,
     "metadata": {},
     "output_type": "execute_result"
    },
    {
     "data": {
      "image/png": "[encoded data removed]",
      "text/plain": [
       "<matplotlib.figure.Figure at 0x1228bdfd0>"
      ]
     },
     "metadata": {},
     "output_type": "display_data"
    }
   ],
   "source": [
    "plt.scatter(y_pred, y_test)"
   ]
  },
  {
   "cell_type": "code",
   "execution_count": 19,
   "metadata": {
    "collapsed": false
   },
   "outputs": [],
   "source": [
    "# check how the model would perform without bottles sold as independent variable\n",
    "\n",
    "X = modeldata[['County Number', 'season', 'price']]\n",
    "y = modeldata['sale']\n",
    "X = categorical.fit_transform(X)\n",
    "X_train, X_test, y_train, y_test = train_test_split(X, y, test_size=0.3, random_state=99)"
   ]
  },
  {
   "cell_type": "code",
   "execution_count": 20,
   "metadata": {
    "collapsed": false
   },
   "outputs": [
    {
     "name": "stdout",
     "output_type": "stream",
     "text": [
      "38.6356088095\n",
      "0.936399829656\n",
      "34220.8649508\n"
     ]
    }
   ],
   "source": [
    "# r2 is still very high without bottles sold, but the rmse is significantly higher, which indicates:\n",
    "# 1. the model is less predictive without bottles sold\n",
    "# 2. r2 may not be a good matrics to evaluate a regularized model since the loss function is not solely mse\n",
    "\n",
    "lassocv = LassoCV(n_alphas=100, normalize=True, random_state=1)\n",
    "lassocv.fit(X_train, y_train)\n",
    "print lassocv.alpha_\n",
    "pred_y = lassocv.predict(X_test)\n",
    "print metrics.r2_score(y_test, pred_y)\n",
    "print np.sqrt(metrics.mean_squared_error(y_test, pred_y))"
   ]
  },
  {
   "cell_type": "code",
   "execution_count": null,
   "metadata": {
    "collapsed": true
   },
   "outputs": [],
   "source": []
  }
 ],
 "metadata": {
  "anaconda-cloud": {},
  "kernelspec": {
   "display_name": "Python [Root]",
   "language": "python",
   "name": "Python [Root]"
  },
  "language_info": {
   "codemirror_mode": {
    "name": "ipython",
    "version": 2
   },
   "file_extension": ".py",
   "mimetype": "text/x-python",
   "name": "python",
   "nbconvert_exporter": "python",
   "pygments_lexer": "ipython2",
   "version": "2.7.12"
  }
 },
 "nbformat": 4,
 "nbformat_minor": 0
}
