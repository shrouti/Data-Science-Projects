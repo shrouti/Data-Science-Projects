{
 "cells": [
  {
   "cell_type": "markdown",
   "metadata": {},
   "source": [
    "### Scrape best restaurants in Chicago"
   ]
  },
  {
   "cell_type": "code",
   "execution_count": 57,
   "metadata": {
    "collapsed": false
   },
   "outputs": [],
   "source": [
    "# scrape restaurants from chicagonow.com\n",
    "\n",
    "import urllib\n",
    "from bs4 import BeautifulSoup\n",
    "url = 'http://www.chicagonow.com/chicago-food-snob/2013/12/chicagos-top-85-restaurants/'\n",
    "chicago=[]\n",
    "html = urllib.urlopen(url).read()\n",
    "soup = BeautifulSoup(html,\"html.parser\")\n",
    "for item in soup.findAll('p'):\n",
    "    try:\n",
    "        chicago.append(item.find('a').getText())\n",
    "    except:\n",
    "        chicago.append(None)"
   ]
  },
  {
   "cell_type": "code",
   "execution_count": 50,
   "metadata": {
    "collapsed": false
   },
   "outputs": [],
   "source": [
    "# slice the restaurants name from the scraped list\n",
    "\n",
    "chicago_dict = chicago[9:88]"
   ]
  },
  {
   "cell_type": "code",
   "execution_count": 59,
   "metadata": {
    "collapsed": false
   },
   "outputs": [],
   "source": [
    "# convert the name list into dataframe\n",
    "\n",
    "import pandas as pd\n",
    "df_chicago = pd.DataFrame(chicago_dict, columns={'restaurant'})"
   ]
  },
  {
   "cell_type": "code",
   "execution_count": 62,
   "metadata": {
    "collapsed": false
   },
   "outputs": [],
   "source": [
    "# add location and star columns\n",
    "\n",
    "df_chicago['location'] = 1\n",
    "df_chicago['star'] = 0"
   ]
  },
  {
   "cell_type": "code",
   "execution_count": 66,
   "metadata": {
    "collapsed": false
   },
   "outputs": [],
   "source": [
    "# store raw data\n",
    "\n",
    "import sys\n",
    "reload(sys)\n",
    "sys.setdefaultencoding('utf-8')"
   ]
  },
  {
   "cell_type": "code",
   "execution_count": 67,
   "metadata": {
    "collapsed": false
   },
   "outputs": [],
   "source": [
    "df_chicago.to_csv('chicago.csv', index=False)"
   ]
  },
  {
   "cell_type": "markdown",
   "metadata": {},
   "source": [
    "### Scrape best restaurants in NYC"
   ]
  },
  {
   "cell_type": "code",
   "execution_count": 79,
   "metadata": {
    "collapsed": false
   },
   "outputs": [],
   "source": [
    "# scrape restaurants from timeout.com\n",
    "\n",
    "nyc=[]\n",
    "for i in range(1,11):\n",
    "    url = 'https://www.timeout.com/newyork/en_US/paginate?page_number={}&pageId=35907&folder=&zone_id=1202678'.format(i)\n",
    "    html = urllib.urlopen(url).read()\n",
    "    soup = BeautifulSoup(html,\"html.parser\")\n",
    "    for item in soup.findAll('div', {'class':'feature-item__column'}):\n",
    "        try:\n",
    "            nyc.append(item.find('h3').getText())\n",
    "        except:\n",
    "            nyc.append(None)"
   ]
  },
  {
   "cell_type": "code",
   "execution_count": 83,
   "metadata": {
    "collapsed": false
   },
   "outputs": [],
   "source": [
    "# clean the restaurant list (remove null values)\n",
    "\n",
    "for x in nyc:\n",
    "    if x==None:\n",
    "        nyc.remove(x)"
   ]
  },
  {
   "cell_type": "code",
   "execution_count": 86,
   "metadata": {
    "collapsed": false
   },
   "outputs": [],
   "source": [
    "# convert restaurant list into dataframe\n",
    "\n",
    "df_nyc = pd.DataFrame(nyc, columns={'restaurant'})"
   ]
  },
  {
   "cell_type": "code",
   "execution_count": 91,
   "metadata": {
    "collapsed": false
   },
   "outputs": [],
   "source": [
    "# clean restaurants name\n",
    "\n",
    "df_nyc.restaurant = df_nyc.restaurant.apply(lambda x: x.strip())"
   ]
  },
  {
   "cell_type": "code",
   "execution_count": 93,
   "metadata": {
    "collapsed": false
   },
   "outputs": [],
   "source": [
    "# add location and star columns\n",
    "\n",
    "df_nyc['location'] = 2\n",
    "df_nyc['star'] = 0"
   ]
  },
  {
   "cell_type": "code",
   "execution_count": 95,
   "metadata": {
    "collapsed": false
   },
   "outputs": [],
   "source": [
    "# store raw data\n",
    "\n",
    "df_nyc.to_csv('nyc.csv')"
   ]
  },
  {
   "cell_type": "markdown",
   "metadata": {},
   "source": [
    "### Scrape best restaurants in San Fransisco"
   ]
  },
  {
   "cell_type": "code",
   "execution_count": 100,
   "metadata": {
    "collapsed": true
   },
   "outputs": [],
   "source": [
    "# scrape restaurants from sfchronicle.com\n",
    "\n",
    "url = 'http://projects.sfchronicle.com/2016/top-100-restaurants/'\n",
    "san=[]\n",
    "html = urllib.urlopen(url).read()\n",
    "soup = BeautifulSoup(html,\"html.parser\")\n",
    "for item in soup.findAll('div', {'class':'column restaurant-index'}):\n",
    "    try:\n",
    "        san.append(item.find('h5').getText())\n",
    "    except:\n",
    "        san.append(None)"
   ]
  },
  {
   "cell_type": "code",
   "execution_count": 104,
   "metadata": {
    "collapsed": false
   },
   "outputs": [],
   "source": [
    "# convert restaurant list into dataframe\n",
    "\n",
    "df_san = pd.DataFrame(san, columns={'restaurant'})"
   ]
  },
  {
   "cell_type": "code",
   "execution_count": 106,
   "metadata": {
    "collapsed": false
   },
   "outputs": [],
   "source": [
    "# add location and star columns\n",
    "\n",
    "df_san['location'] = 3\n",
    "df_san['star'] = 0"
   ]
  },
  {
   "cell_type": "code",
   "execution_count": 108,
   "metadata": {
    "collapsed": true
   },
   "outputs": [],
   "source": [
    "# store raw data\n",
    "\n",
    "df_san.to_csv('san.csv', index=False)"
   ]
  },
  {
   "cell_type": "markdown",
   "metadata": {},
   "source": [
    "### Scrape best restaurants in DC"
   ]
  },
  {
   "cell_type": "code",
   "execution_count": 152,
   "metadata": {
    "collapsed": false
   },
   "outputs": [],
   "source": [
    "# scrape restaurants from washingtonian.com\n",
    "\n",
    "url = 'https://www.washingtonian.com/2016/02/08/100-very-best-restaurants/'\n",
    "dc=[]\n",
    "html = urllib.urlopen(url).read()\n",
    "soup = BeautifulSoup(html,\"html.parser\")\n",
    "\n",
    "for item in soup.findAll(\"tr\"):\n",
    "        dc.append(item.find('span',{'class':'name'}))"
   ]
  },
  {
   "cell_type": "code",
   "execution_count": 153,
   "metadata": {
    "collapsed": false
   },
   "outputs": [],
   "source": [
    "# convert restaurant list into dataframe\n",
    "\n",
    "df_dc = pd.DataFrame(dc, columns=['restaurant'])"
   ]
  },
  {
   "cell_type": "code",
   "execution_count": 154,
   "metadata": {
    "collapsed": false
   },
   "outputs": [],
   "source": [
    "# drop null values\n",
    "\n",
    "df_dc.dropna(inplace=True)"
   ]
  },
  {
   "cell_type": "code",
   "execution_count": 168,
   "metadata": {
    "collapsed": false
   },
   "outputs": [],
   "source": [
    "# clean restaurants name\n",
    "\n",
    "df_dc.restaurant = df_dc.restaurant.apply(lambda x: str(x)[19:].replace('</span>', ''))\n",
    "df_dc.restaurt = df_dc.restaurant.apply(lambda x: x.strip())"
   ]
  },
  {
   "cell_type": "code",
   "execution_count": 172,
   "metadata": {
    "collapsed": false
   },
   "outputs": [],
   "source": [
    "# store raw data\n",
    "\n",
    "df_dc.to_csv('dc.csv', index=False)"
   ]
  },
  {
   "cell_type": "markdown",
   "metadata": {
    "collapsed": true
   },
   "source": [
    "For restaurants in Chicago, NYC and SF, I manually assigned stars to 'star' column according to the michelin star list. For restaurants that are not in the raw data but are on michelin star list, I manually added them into the raw data. For restaurant names with strange characters that cannot be appropriately recognized by Yelp API, I corrected them manually. These 'dirty work' are not reflected in the code."
   ]
  },
  {
   "cell_type": "code",
   "execution_count": null,
   "metadata": {
    "collapsed": true
   },
   "outputs": [],
   "source": []
  }
 ],
 "metadata": {
  "anaconda-cloud": {},
  "kernelspec": {
   "display_name": "Python [Root]",
   "language": "python",
   "name": "Python [Root]"
  },
  "language_info": {
   "codemirror_mode": {
    "name": "ipython",
    "version": 2
   },
   "file_extension": ".py",
   "mimetype": "text/x-python",
   "name": "python",
   "nbconvert_exporter": "python",
   "pygments_lexer": "ipython2",
   "version": "2.7.12"
  }
 },
 "nbformat": 4,
 "nbformat_minor": 0
}
